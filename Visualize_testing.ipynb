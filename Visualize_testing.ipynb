{
 "cells": [
  {
   "cell_type": "code",
   "execution_count": null,
   "metadata": {},
   "outputs": [],
   "source": []
  },
  {
   "cell_type": "code",
   "execution_count": 1,
   "metadata": {},
   "outputs": [],
   "source": [
    "# Smart_grid.py\n",
    "# Antonio, Mec, Vincent\n",
    "# YakuzAI\n",
    "\n",
    "from code.smart_grid import load_battery_data, load_house_data, show_district\n",
    "import numpy as np\n",
    "import matplotlib.pyplot as plt\n",
    "import matplotlib.ticker as ticker\n",
    "from code.battery import Battery\n",
    "from code.house import House"
   ]
  },
  {
   "cell_type": "markdown",
   "metadata": {},
   "source": [
    "District one first 10 houses and 5 batteries"
   ]
  },
  {
   "cell_type": "code",
   "execution_count": 13,
   "metadata": {},
   "outputs": [
    {
     "name": "stdout",
     "output_type": "stream",
     "text": [
      "{(38, 12): 1507.0, (43, 13): 1507.0, (42, 3): 1507.0, (49, 23): 1507.0, (3, 45): 1507.0}\n",
      "{(34, 47): 53.97543253, (24, 22): 66.13020717, (49, 44): 39.82123377, (19, 38): 46.4333204, (22, 46): 62.43058175, (17, 11): 62.14055349, (19, 4): 52.43116675, (8, 6): 30.48448777, (9, 37): 63.19785578, (16, 38): 65.00367928}\n"
     ]
    }
   ],
   "source": [
    "from itertools import islice\n",
    "\n",
    "\n",
    "def first_n_items_of_dict(input_dict, n):\n",
    "    return dict(islice(input_dict.items(), n))\n",
    "\n",
    "batteries = load_battery_data('Huizen&Batterijen/district_1/district-1_batteries.csv')\n",
    "houses = load_house_data('Huizen&Batterijen/district_1/district-1_houses.csv')\n",
    "\n",
    "# Get the first 5 elements of batteries and the first 10 elements of houses\n",
    "first_five_batteries = first_n_items_of_dict(batteries, 5)\n",
    "first_ten_houses = first_n_items_of_dict(houses, 10)\n",
    "\n",
    "print(first_five_batteries)\n",
    "print(first_ten_houses)"
   ]
  },
  {
   "cell_type": "code",
   "execution_count": null,
   "metadata": {},
   "outputs": [],
   "source": []
  }
 ],
 "metadata": {
  "kernelspec": {
   "display_name": "Python 3 (ipykernel)",
   "language": "python",
   "name": "python3"
  },
  "language_info": {
   "codemirror_mode": {
    "name": "ipython",
    "version": 3
   },
   "file_extension": ".py",
   "mimetype": "text/x-python",
   "name": "python",
   "nbconvert_exporter": "python",
   "pygments_lexer": "ipython3",
   "version": "3.9.18"
  }
 },
 "nbformat": 4,
 "nbformat_minor": 2
}
