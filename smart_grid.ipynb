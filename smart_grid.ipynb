{
 "cells": [
  {
   "cell_type": "code",
   "execution_count": 22,
   "metadata": {},
   "outputs": [
    {
     "name": "stdout",
     "output_type": "stream",
     "text": [
      "{(38, 12): '1507.0', (43, 13): '1507.0', (42, 3): '1507.0', (49, 23): '1507.0', (3, 45): '1507.0'}\n",
      "{(19, 20): '1508.25', (1, 36): '1508.25', (34, 49): '1508.25', (41, 21): '1508.25', (26, 22): '1508.25'}\n",
      "{(18, 34): '1506.75', (32, 11): '1506.75', (41, 1): '1506.75', (3, 35): '1506.75', (39, 41): '1506.75'}\n"
     ]
    }
   ],
   "source": [
    "# Smart_grid.py\n",
    "# Antonio, Mec, Vincent\n",
    "# YakuzAI\n",
    "\n",
    "from smart_grid import load_battery_data, load_house_data\n",
    "\n",
    "battery_data = ['Huizen&Batterijen/district_1/district-1_batteries.csv','Huizen&Batterijen/district_2/district-2_batteries.csv', 'Huizen&Batterijen/district_3/district-3_batteries.csv']\n",
    "\n",
    "for battery in battery_data:\n",
    "    print(load_battery_data(battery))\n"
   ]
  },
  {
   "cell_type": "code",
   "execution_count": 23,
   "metadata": {},
   "outputs": [
    {
     "name": "stdout",
     "output_type": "stream",
     "text": [
      "Unexpected exception formatting exception. Falling back to standard exception\n"
     ]
    },
    {
     "name": "stderr",
     "output_type": "stream",
     "text": [
      "Traceback (most recent call last):\n",
      "  File \"/Users/antoniovandijck/miniconda3/lib/python3.11/site-packages/IPython/core/interactiveshell.py\", line 3526, in run_code\n",
      "    exec(code_obj, self.user_global_ns, self.user_ns)\n",
      "  File \"/var/folders/cf/hwpdg17s543b67pf6_7cd0qr0000gn/T/ipykernel_11158/1232194881.py\", line 4, in <module>\n",
      "    print(load_house_data(house))\n",
      "          ^^^^^^^^^^^^^^^^^^^^^^\n",
      "  File \"/Users/antoniovandijck/Downloads/Week 1 Minor AI/Algoritmes & Heuristieken/YakuzAI/smart_grid.py\", line 54, in load_house_data\n",
      "    houses_data = ['Huizen&Batterijen/district_1/district-1_houses.csv', 'Huizen&Batterijen/district_2/district-2_houses.csv', 'Huizen&Batterijen/district_3/district-3_houses.csv']\n",
      "                                     ^^^^^^^\n",
      "NameError: name 'positie' is not defined\n",
      "\n",
      "During handling of the above exception, another exception occurred:\n",
      "\n",
      "Traceback (most recent call last):\n",
      "  File \"/Users/antoniovandijck/miniconda3/lib/python3.11/site-packages/IPython/core/interactiveshell.py\", line 2120, in showtraceback\n",
      "    stb = self.InteractiveTB.structured_traceback(\n",
      "          ^^^^^^^^^^^^^^^^^^^^^^^^^^^^^^^^^^^^^^^^\n",
      "  File \"/Users/antoniovandijck/miniconda3/lib/python3.11/site-packages/IPython/core/ultratb.py\", line 1435, in structured_traceback\n",
      "    return FormattedTB.structured_traceback(\n",
      "           ^^^^^^^^^^^^^^^^^^^^^^^^^^^^^^^^^\n",
      "  File \"/Users/antoniovandijck/miniconda3/lib/python3.11/site-packages/IPython/core/ultratb.py\", line 1326, in structured_traceback\n",
      "    return VerboseTB.structured_traceback(\n",
      "           ^^^^^^^^^^^^^^^^^^^^^^^^^^^^^^^\n",
      "  File \"/Users/antoniovandijck/miniconda3/lib/python3.11/site-packages/IPython/core/ultratb.py\", line 1173, in structured_traceback\n",
      "    formatted_exception = self.format_exception_as_a_whole(etype, evalue, etb, number_of_lines_of_context,\n",
      "                          ^^^^^^^^^^^^^^^^^^^^^^^^^^^^^^^^^^^^^^^^^^^^^^^^^^^^^^^^^^^^^^^^^^^^^^^^^^^^^^^^\n",
      "  File \"/Users/antoniovandijck/miniconda3/lib/python3.11/site-packages/IPython/core/ultratb.py\", line 1088, in format_exception_as_a_whole\n",
      "    frames.append(self.format_record(record))\n",
      "                  ^^^^^^^^^^^^^^^^^^^^^^^^^^\n",
      "  File \"/Users/antoniovandijck/miniconda3/lib/python3.11/site-packages/IPython/core/ultratb.py\", line 970, in format_record\n",
      "    frame_info.lines, Colors, self.has_colors, lvals\n",
      "    ^^^^^^^^^^^^^^^^\n",
      "  File \"/Users/antoniovandijck/miniconda3/lib/python3.11/site-packages/IPython/core/ultratb.py\", line 792, in lines\n",
      "    return self._sd.lines\n",
      "           ^^^^^^^^^^^^^^\n",
      "  File \"/Users/antoniovandijck/miniconda3/lib/python3.11/site-packages/stack_data/utils.py\", line 144, in cached_property_wrapper\n",
      "    value = obj.__dict__[self.func.__name__] = self.func(obj)\n",
      "                                               ^^^^^^^^^^^^^^\n",
      "  File \"/Users/antoniovandijck/miniconda3/lib/python3.11/site-packages/stack_data/core.py\", line 734, in lines\n",
      "    pieces = self.included_pieces\n",
      "             ^^^^^^^^^^^^^^^^^^^^\n",
      "  File \"/Users/antoniovandijck/miniconda3/lib/python3.11/site-packages/stack_data/utils.py\", line 144, in cached_property_wrapper\n",
      "    value = obj.__dict__[self.func.__name__] = self.func(obj)\n",
      "                                               ^^^^^^^^^^^^^^\n",
      "  File \"/Users/antoniovandijck/miniconda3/lib/python3.11/site-packages/stack_data/core.py\", line 681, in included_pieces\n",
      "    pos = scope_pieces.index(self.executing_piece)\n",
      "                             ^^^^^^^^^^^^^^^^^^^^\n",
      "  File \"/Users/antoniovandijck/miniconda3/lib/python3.11/site-packages/stack_data/utils.py\", line 144, in cached_property_wrapper\n",
      "    value = obj.__dict__[self.func.__name__] = self.func(obj)\n",
      "                                               ^^^^^^^^^^^^^^\n",
      "  File \"/Users/antoniovandijck/miniconda3/lib/python3.11/site-packages/stack_data/core.py\", line 660, in executing_piece\n",
      "    return only(\n",
      "           ^^^^^\n",
      "  File \"/Users/antoniovandijck/miniconda3/lib/python3.11/site-packages/executing/executing.py\", line 190, in only\n",
      "    raise NotOneValueFound('Expected one value, found 0')\n",
      "executing.executing.NotOneValueFound: Expected one value, found 0\n"
     ]
    }
   ],
   "source": [
    "houses_data = ['Huizen&Batterijen/district_1/district-1_houses.csv', 'Huizen&Batterijen/district_2/district-2_houses.csv', 'Huizen&Batterijen/district_3/district-3_houses.csv']\n",
    "\n",
    "for house in houses_data:\n",
    "    print(load_house_data(house))"
   ]
  },
  {
   "cell_type": "code",
   "execution_count": null,
   "metadata": {},
   "outputs": [],
   "source": []
  }
 ],
 "metadata": {
  "kernelspec": {
   "display_name": "base",
   "language": "python",
   "name": "python3"
  },
  "language_info": {
   "codemirror_mode": {
    "name": "ipython",
    "version": 3
   },
   "file_extension": ".py",
   "mimetype": "text/x-python",
   "name": "python",
   "nbconvert_exporter": "python",
   "pygments_lexer": "ipython3",
   "version": "3.11.4"
  }
 },
 "nbformat": 4,
 "nbformat_minor": 2
}
